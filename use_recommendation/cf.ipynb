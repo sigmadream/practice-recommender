{
 "cells": [
  {
   "cell_type": "code",
   "execution_count": 10,
   "id": "fc31129f-d1a9-42b7-9a5c-539658d09207",
   "metadata": {},
   "outputs": [],
   "source": [
    "import pandas as pd\n",
    "import matplotlib\n",
    "import matplotlib.pyplot as plt\n",
    "import seaborn as sns"
   ]
  },
  {
   "cell_type": "code",
   "execution_count": 15,
   "id": "e8e7880d-3003-4cd3-811f-099cbc0088d6",
   "metadata": {},
   "outputs": [],
   "source": [
    "from scipy import sparse"
   ]
  },
  {
   "cell_type": "code",
   "execution_count": 3,
   "id": "94f4e20f-aec0-4b64-bb27-39270d6ccd7e",
   "metadata": {},
   "outputs": [],
   "source": [
    "def load_data():\n",
    "    netflix_csv_file = open(\"netflix_rating.csv\", mode = \"w\")\n",
    "    with open('../dataset/recommendation/combined_data_4.txt') as f:\n",
    "        for line in f:\n",
    "            line = line.strip()\n",
    "            if line.endswith(\":\"):\n",
    "                movie_id = line.replace(\":\", \"\")\n",
    "            else:\n",
    "                row_data = []\n",
    "                row_data = [item for item in line.split(\",\")]\n",
    "                row_data.insert(0, movie_id)\n",
    "                netflix_csv_file.write(\",\".join(row_data))\n",
    "                netflix_csv_file.write('\\n')\n",
    "\n",
    "    netflix_csv_file.close()\n",
    "    df = pd.read_csv('netflix_rating.csv', sep=\",\", names = [\"movie_id\",\"customer_id\", \"rating\", \"date\"])\n",
    "\n",
    "    return df"
   ]
  },
  {
   "cell_type": "code",
   "execution_count": 4,
   "id": "3a0d3393-4f18-434a-8b57-aaf65f9b6eae",
   "metadata": {},
   "outputs": [
    {
     "data": {
      "text/html": [
       "<div>\n",
       "<style scoped>\n",
       "    .dataframe tbody tr th:only-of-type {\n",
       "        vertical-align: middle;\n",
       "    }\n",
       "\n",
       "    .dataframe tbody tr th {\n",
       "        vertical-align: top;\n",
       "    }\n",
       "\n",
       "    .dataframe thead th {\n",
       "        text-align: right;\n",
       "    }\n",
       "</style>\n",
       "<table border=\"1\" class=\"dataframe\">\n",
       "  <thead>\n",
       "    <tr style=\"text-align: right;\">\n",
       "      <th></th>\n",
       "      <th>movie_id</th>\n",
       "      <th>customer_id</th>\n",
       "      <th>rating</th>\n",
       "      <th>date</th>\n",
       "    </tr>\n",
       "  </thead>\n",
       "  <tbody>\n",
       "    <tr>\n",
       "      <th>0</th>\n",
       "      <td>13368</td>\n",
       "      <td>2385003</td>\n",
       "      <td>4</td>\n",
       "      <td>2004-07-08</td>\n",
       "    </tr>\n",
       "    <tr>\n",
       "      <th>1</th>\n",
       "      <td>13368</td>\n",
       "      <td>659432</td>\n",
       "      <td>3</td>\n",
       "      <td>2005-03-16</td>\n",
       "    </tr>\n",
       "    <tr>\n",
       "      <th>2</th>\n",
       "      <td>13368</td>\n",
       "      <td>751812</td>\n",
       "      <td>2</td>\n",
       "      <td>2002-12-16</td>\n",
       "    </tr>\n",
       "    <tr>\n",
       "      <th>3</th>\n",
       "      <td>13368</td>\n",
       "      <td>2625420</td>\n",
       "      <td>2</td>\n",
       "      <td>2004-05-25</td>\n",
       "    </tr>\n",
       "    <tr>\n",
       "      <th>4</th>\n",
       "      <td>13368</td>\n",
       "      <td>1650301</td>\n",
       "      <td>1</td>\n",
       "      <td>2005-08-30</td>\n",
       "    </tr>\n",
       "  </tbody>\n",
       "</table>\n",
       "</div>"
      ],
      "text/plain": [
       "   movie_id  customer_id  rating        date\n",
       "0     13368      2385003       4  2004-07-08\n",
       "1     13368       659432       3  2005-03-16\n",
       "2     13368       751812       2  2002-12-16\n",
       "3     13368      2625420       2  2004-05-25\n",
       "4     13368      1650301       1  2005-08-30"
      ]
     },
     "execution_count": 4,
     "metadata": {},
     "output_type": "execute_result"
    }
   ],
   "source": [
    "netflix_rating_df = load_data()\n",
    "netflix_rating_df\n",
    "netflix_rating_df.head()"
   ]
  },
  {
   "cell_type": "code",
   "execution_count": 5,
   "id": "c0ede6fe-7194-4dc7-a7ea-4d1ffd5b0b96",
   "metadata": {},
   "outputs": [
    {
     "data": {
      "text/plain": [
       "0"
      ]
     },
     "execution_count": 5,
     "metadata": {},
     "output_type": "execute_result"
    }
   ],
   "source": [
    "netflix_rating_df.duplicated([\"movie_id\",\"customer_id\", \"rating\", \"date\"]).sum()"
   ]
  },
  {
   "cell_type": "code",
   "execution_count": 6,
   "id": "61842834-ec11-46be-bb52-688446090148",
   "metadata": {},
   "outputs": [],
   "source": [
    "split_value = int(len(netflix_rating_df) * 0.80)\n",
    "train_data = netflix_rating_df[:split_value]\n",
    "test_data = netflix_rating_df[split_value:]"
   ]
  },
  {
   "cell_type": "code",
   "execution_count": 12,
   "id": "1c69efa7-5eb5-4498-b4db-5385807af165",
   "metadata": {},
   "outputs": [
    {
     "name": "stderr",
     "output_type": "stream",
     "text": [
      "C:\\Users\\sigma\\AppData\\Local\\Temp\\ipykernel_9288\\1206673435.py:3: UserWarning: FixedFormatter should only be used together with FixedLocator\n",
      "  ax.set_yticklabels([num for num in ax.get_yticks()])\n"
     ]
    },
    {
     "data": {
      "image/png": "[encoded data removed]",
      "text/plain": [
       "<Figure size 864x576 with 1 Axes>"
      ]
     },
     "metadata": {
      "needs_background": "light"
     },
     "output_type": "display_data"
    }
   ],
   "source": [
    "plt.figure(figsize = (12, 8))\n",
    "ax = sns.countplot(x=\"rating\", data=train_data)\n",
    "ax.set_yticklabels([num for num in ax.get_yticks()])\n",
    "plt.tick_params(labelsize = 15)\n",
    "plt.title(\"Count Ratings in train data\", fontsize = 20)\n",
    "plt.xlabel(\"Ratings\", fontsize = 20)\n",
    "plt.ylabel(\"Number of Ratings\", fontsize = 20)\n",
    "plt.show()"
   ]
  },
  {
   "cell_type": "code",
   "execution_count": 16,
   "id": "753be4be-7b24-4cc3-bbfc-771f3269aa29",
   "metadata": {},
   "outputs": [],
   "source": [
    "def get_user_item_sparse_matrix(df):\n",
    "    sparse_data = sparse.csr_matrix((df.rating, (df.customer_id, df.movie_id)))\n",
    "    return sparse_data"
   ]
  },
  {
   "cell_type": "code",
   "execution_count": 18,
   "id": "6c8a5c33-4767-4811-a2f0-fedd249b1462",
   "metadata": {},
   "outputs": [
    {
     "name": "stdout",
     "output_type": "stream",
     "text": [
      "Global Average Rating: 3.6291294662291467\n"
     ]
    }
   ],
   "source": [
    "train_sparse_data = get_user_item_sparse_matrix(train_data)\n",
    "test_sparse_data = get_user_item_sparse_matrix(test_data)\n",
    "global_average_rating = train_sparse_data.sum()/train_sparse_data.count_nonzero()\n",
    "print(f\"Global Average Rating: {global_average_rating}\")"
   ]
  },
  {
   "cell_type": "code",
   "execution_count": null,
   "id": "065b0f34-501a-4fa2-ae09-d9b06e9c6173",
   "metadata": {},
   "outputs": [],
   "source": []
  }
 ],
 "metadata": {
  "kernelspec": {
   "display_name": "Python 3 (ipykernel)",
   "language": "python",
   "name": "python3"
  },
  "language_info": {
   "codemirror_mode": {
    "name": "ipython",
    "version": 3
   },
   "file_extension": ".py",
   "mimetype": "text/x-python",
   "name": "python",
   "nbconvert_exporter": "python",
   "pygments_lexer": "ipython3",
   "version": "3.10.4"
  }
 },
 "nbformat": 4,
 "nbformat_minor": 5
}
