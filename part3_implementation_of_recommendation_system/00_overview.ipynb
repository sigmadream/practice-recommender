{
 "cells": [
  {
   "cell_type": "code",
   "execution_count": 1,
   "id": "fc31129f-d1a9-42b7-9a5c-539658d09207",
   "metadata": {},
   "outputs": [],
   "source": [
    "import os\n",
    "import pandas as pd\n",
    "import numpy as np\n",
    "import matplotlib\n",
    "import matplotlib.pyplot as plt\n",
    "import seaborn as sns\n",
    "import xgboost as xgb"
   ]
  },
  {
   "cell_type": "code",
   "execution_count": 2,
   "id": "e8e7880d-3003-4cd3-811f-099cbc0088d6",
   "metadata": {},
   "outputs": [],
   "source": [
    "from scipy import sparse\n",
    "from sklearn.metrics.pairwise import cosine_similarity\n",
    "from sklearn.metrics import mean_squared_error"
   ]
  },
  {
   "cell_type": "code",
   "execution_count": 3,
   "id": "973c26e1-3dfd-4da9-9836-554b3c2d1900",
   "metadata": {},
   "outputs": [],
   "source": [
    "from surprise import Reader, Dataset\n",
    "from surprise import BaselineOnly\n",
    "from surprise import KNNBaseline\n",
    "from surprise import SVD\n",
    "from surprise import SVDpp\n",
    "from surprise.model_selection import GridSearchCV"
   ]
  },
  {
   "cell_type": "markdown",
   "id": "d841abf0-d26c-497e-be24-32fbb1dadf65",
   "metadata": {},
   "source": [
    "# 데이터 정리"
   ]
  },
  {
   "cell_type": "code",
   "execution_count": 4,
   "id": "94f4e20f-aec0-4b64-bb27-39270d6ccd7e",
   "metadata": {},
   "outputs": [],
   "source": [
    "def load_netflix_rating_data():\n",
    "    netflix_csv_file = open('../dataset/recommendation/netflix_rating.csv', mode = 'w')\n",
    "    with open('../dataset/recommendation/combined_data_4.txt') as f:\n",
    "        for line in f:\n",
    "            line = line.strip()\n",
    "            if line.endswith(\":\"):\n",
    "                movie_id = line.replace(\":\", \"\")\n",
    "            else:\n",
    "                row_data = []\n",
    "                row_data = [item for item in line.split(',')]\n",
    "                row_data.insert(0, movie_id)\n",
    "                netflix_csv_file.write(','.join(row_data))\n",
    "                netflix_csv_file.write('\\n')\n",
    "    netflix_csv_file.close()\n",
    "    df = pd.read_csv('../dataset/recommendation/netflix_rating.csv', sep=\",\", names = [\"movie_id\",\"customer_id\", \"rating\", \"date\"])\n",
    "    df.to_pickle(\"../dataset/recommendation/netflix_rating.pkl\")\n",
    "    return df"
   ]
  },
  {
   "cell_type": "code",
   "execution_count": 5,
   "id": "37f3ce46-29a4-4405-b08e-c06346fbea77",
   "metadata": {},
   "outputs": [],
   "source": [
    "if not os.path.isfile(\"../dataset/recommendation/netflix_rating.pkl\"):\n",
    "    netflix_rating_df = load_netflix_rating_data()\n",
    "    netflix_rating_df['date'] = pd.to_datetime(netflix_rating_df['date'])\n",
    "    netflix_rating_df.sort_values(by = 'date', inplace = True)\n",
    "else:\n",
    "    netflix_rating_df = pd.read_pickle(\"../dataset/recommendation/netflix_rating.pkl\")"
   ]
  },
  {
   "cell_type": "code",
   "execution_count": 6,
   "id": "3a0d3393-4f18-434a-8b57-aaf65f9b6eae",
   "metadata": {},
   "outputs": [
    {
     "data": {
      "text/html": [
       "<div>\n",
       "<style scoped>\n",
       "    .dataframe tbody tr th:only-of-type {\n",
       "        vertical-align: middle;\n",
       "    }\n",
       "\n",
       "    .dataframe tbody tr th {\n",
       "        vertical-align: top;\n",
       "    }\n",
       "\n",
       "    .dataframe thead th {\n",
       "        text-align: right;\n",
       "    }\n",
       "</style>\n",
       "<table border=\"1\" class=\"dataframe\">\n",
       "  <thead>\n",
       "    <tr style=\"text-align: right;\">\n",
       "      <th></th>\n",
       "      <th>movie_id</th>\n",
       "      <th>customer_id</th>\n",
       "      <th>rating</th>\n",
       "      <th>date</th>\n",
       "    </tr>\n",
       "  </thead>\n",
       "  <tbody>\n",
       "    <tr>\n",
       "      <th>0</th>\n",
       "      <td>13368</td>\n",
       "      <td>2385003</td>\n",
       "      <td>4</td>\n",
       "      <td>2004-07-08</td>\n",
       "    </tr>\n",
       "    <tr>\n",
       "      <th>1</th>\n",
       "      <td>13368</td>\n",
       "      <td>659432</td>\n",
       "      <td>3</td>\n",
       "      <td>2005-03-16</td>\n",
       "    </tr>\n",
       "    <tr>\n",
       "      <th>2</th>\n",
       "      <td>13368</td>\n",
       "      <td>751812</td>\n",
       "      <td>2</td>\n",
       "      <td>2002-12-16</td>\n",
       "    </tr>\n",
       "    <tr>\n",
       "      <th>3</th>\n",
       "      <td>13368</td>\n",
       "      <td>2625420</td>\n",
       "      <td>2</td>\n",
       "      <td>2004-05-25</td>\n",
       "    </tr>\n",
       "    <tr>\n",
       "      <th>4</th>\n",
       "      <td>13368</td>\n",
       "      <td>1650301</td>\n",
       "      <td>1</td>\n",
       "      <td>2005-08-30</td>\n",
       "    </tr>\n",
       "  </tbody>\n",
       "</table>\n",
       "</div>"
      ],
      "text/plain": [
       "   movie_id  customer_id  rating        date\n",
       "0     13368      2385003       4  2004-07-08\n",
       "1     13368       659432       3  2005-03-16\n",
       "2     13368       751812       2  2002-12-16\n",
       "3     13368      2625420       2  2004-05-25\n",
       "4     13368      1650301       1  2005-08-30"
      ]
     },
     "execution_count": 6,
     "metadata": {},
     "output_type": "execute_result"
    }
   ],
   "source": [
    "netflix_rating_df.head()"
   ]
  },
  {
   "cell_type": "code",
   "execution_count": 7,
   "id": "9144f4b7-3ce5-4c5f-b7f4-499a06ddaf91",
   "metadata": {},
   "outputs": [],
   "source": [
    "def load_netflix_title_data():\n",
    "    with open('../dataset/recommendation/movie_titles.csv', 'r', encoding='utf8') as file:\n",
    "        import csv\n",
    "        with open('../dataset/recommendation/movie_titles_tab.csv', 'w', encoding='utf8') as csvfile:\n",
    "            csv_writer = csv.writer(csvfile, delimiter='\\t')\n",
    "            for line in  file.readlines():\n",
    "                row = line.split(',', 2)\n",
    "                row_list = [row[0],str(row[1]),row[2].replace('\\n','')]\n",
    "                csv_writer.writerow(row_list)\n",
    "    df = pd.read_csv(\"../dataset/recommendation/movie_titles_tab.csv\", sep='\\t', header = None, names=['movie_id', 'year_of_release', 'movie_title'])\n",
    "    df.to_pickle(\"../dataset/recommendation/netflix_titles.pkl\")\n",
    "    return df"
   ]
  },
  {
   "cell_type": "code",
   "execution_count": 8,
   "id": "f5e7eebd-804d-4b20-8ab5-36064bbce82a",
   "metadata": {},
   "outputs": [],
   "source": [
    "if not os.path.isfile(\"../dataset/recommendation/netflix_titles.pkl\"):\n",
    "    netflix_titles_df = load_netflix_title_data()\n",
    "else:\n",
    "    netflix_titles_df = pd.read_pickle(\"../dataset/recommendation/netflix_titles.pkl\")"
   ]
  },
  {
   "cell_type": "code",
   "execution_count": 9,
   "id": "277ca80d-bac5-4b16-92bc-5f6b8cf924eb",
   "metadata": {},
   "outputs": [
    {
     "data": {
      "text/html": [
       "<div>\n",
       "<style scoped>\n",
       "    .dataframe tbody tr th:only-of-type {\n",
       "        vertical-align: middle;\n",
       "    }\n",
       "\n",
       "    .dataframe tbody tr th {\n",
       "        vertical-align: top;\n",
       "    }\n",
       "\n",
       "    .dataframe thead th {\n",
       "        text-align: right;\n",
       "    }\n",
       "</style>\n",
       "<table border=\"1\" class=\"dataframe\">\n",
       "  <thead>\n",
       "    <tr style=\"text-align: right;\">\n",
       "      <th></th>\n",
       "      <th>movie_id</th>\n",
       "      <th>year_of_release</th>\n",
       "      <th>movie_title</th>\n",
       "    </tr>\n",
       "  </thead>\n",
       "  <tbody>\n",
       "    <tr>\n",
       "      <th>0</th>\n",
       "      <td>1</td>\n",
       "      <td>2003.0</td>\n",
       "      <td>Dinosaur Planet</td>\n",
       "    </tr>\n",
       "    <tr>\n",
       "      <th>1</th>\n",
       "      <td>2</td>\n",
       "      <td>2004.0</td>\n",
       "      <td>Isle of Man TT 2004 Review</td>\n",
       "    </tr>\n",
       "    <tr>\n",
       "      <th>2</th>\n",
       "      <td>3</td>\n",
       "      <td>1997.0</td>\n",
       "      <td>Character</td>\n",
       "    </tr>\n",
       "    <tr>\n",
       "      <th>3</th>\n",
       "      <td>4</td>\n",
       "      <td>1994.0</td>\n",
       "      <td>Paula Abdul's Get Up &amp; Dance</td>\n",
       "    </tr>\n",
       "    <tr>\n",
       "      <th>4</th>\n",
       "      <td>5</td>\n",
       "      <td>2004.0</td>\n",
       "      <td>The Rise and Fall of ECW</td>\n",
       "    </tr>\n",
       "  </tbody>\n",
       "</table>\n",
       "</div>"
      ],
      "text/plain": [
       "   movie_id  year_of_release                   movie_title\n",
       "0         1           2003.0               Dinosaur Planet\n",
       "1         2           2004.0    Isle of Man TT 2004 Review\n",
       "2         3           1997.0                     Character\n",
       "3         4           1994.0  Paula Abdul's Get Up & Dance\n",
       "4         5           2004.0      The Rise and Fall of ECW"
      ]
     },
     "execution_count": 9,
     "metadata": {},
     "output_type": "execute_result"
    }
   ],
   "source": [
    "netflix_titles_df.head()"
   ]
  },
  {
   "cell_type": "markdown",
   "id": "d21c67ca-79a5-4bea-9913-abde75a68b39",
   "metadata": {},
   "source": [
    "# 데이터 정리(중복제거)"
   ]
  },
  {
   "cell_type": "code",
   "execution_count": 10,
   "id": "be48d258-f846-459a-9582-2e0bd05e0bae",
   "metadata": {},
   "outputs": [
    {
     "name": "stdout",
     "output_type": "stream",
     "text": [
      "<class 'pandas.core.frame.DataFrame'>\n",
      "RangeIndex: 26847523 entries, 0 to 26847522\n",
      "Data columns (total 4 columns):\n",
      " #   Column       Dtype \n",
      "---  ------       ----- \n",
      " 0   movie_id     int64 \n",
      " 1   customer_id  int64 \n",
      " 2   rating       int64 \n",
      " 3   date         object\n",
      "dtypes: int64(3), object(1)\n",
      "memory usage: 819.3+ MB\n"
     ]
    }
   ],
   "source": [
    "netflix_rating_df.info()"
   ]
  },
  {
   "cell_type": "code",
   "execution_count": 11,
   "id": "c0ede6fe-7194-4dc7-a7ea-4d1ffd5b0b96",
   "metadata": {},
   "outputs": [
    {
     "data": {
      "text/plain": [
       "0"
      ]
     },
     "execution_count": 11,
     "metadata": {},
     "output_type": "execute_result"
    }
   ],
   "source": [
    "netflix_rating_df.duplicated([\"movie_id\",\"customer_id\", \"rating\", \"date\"]).sum()"
   ]
  },
  {
   "cell_type": "code",
   "execution_count": 12,
   "id": "fbbca155-327f-4666-9469-1de00a70a497",
   "metadata": {},
   "outputs": [
    {
     "data": {
      "text/plain": [
       "movie_id       0\n",
       "customer_id    0\n",
       "rating         0\n",
       "date           0\n",
       "dtype: int64"
      ]
     },
     "execution_count": 12,
     "metadata": {},
     "output_type": "execute_result"
    }
   ],
   "source": [
    "netflix_rating_df.isnull().sum()"
   ]
  },
  {
   "cell_type": "code",
   "execution_count": 13,
   "id": "99e501d5-e6fe-4cf0-acb2-3ed8f2cd1e91",
   "metadata": {},
   "outputs": [
    {
     "name": "stdout",
     "output_type": "stream",
     "text": [
      "<class 'pandas.core.frame.DataFrame'>\n",
      "RangeIndex: 17770 entries, 0 to 17769\n",
      "Data columns (total 3 columns):\n",
      " #   Column           Non-Null Count  Dtype  \n",
      "---  ------           --------------  -----  \n",
      " 0   movie_id         17770 non-null  int64  \n",
      " 1   year_of_release  17763 non-null  float64\n",
      " 2   movie_title      17770 non-null  object \n",
      "dtypes: float64(1), int64(1), object(1)\n",
      "memory usage: 416.6+ KB\n"
     ]
    }
   ],
   "source": [
    "netflix_titles_df.info()"
   ]
  },
  {
   "cell_type": "code",
   "execution_count": 14,
   "id": "5dabcf88-50bb-48b0-8f10-d033697488e9",
   "metadata": {},
   "outputs": [
    {
     "data": {
      "text/plain": [
       "movie_id           0\n",
       "year_of_release    7\n",
       "movie_title        0\n",
       "dtype: int64"
      ]
     },
     "execution_count": 14,
     "metadata": {},
     "output_type": "execute_result"
    }
   ],
   "source": [
    "netflix_titles_df.isnull().sum()"
   ]
  },
  {
   "cell_type": "code",
   "execution_count": 15,
   "id": "e6278155-79cb-4f35-bead-170ac0b0e56a",
   "metadata": {},
   "outputs": [
    {
     "data": {
      "text/html": [
       "<div>\n",
       "<style scoped>\n",
       "    .dataframe tbody tr th:only-of-type {\n",
       "        vertical-align: middle;\n",
       "    }\n",
       "\n",
       "    .dataframe tbody tr th {\n",
       "        vertical-align: top;\n",
       "    }\n",
       "\n",
       "    .dataframe thead th {\n",
       "        text-align: right;\n",
       "    }\n",
       "</style>\n",
       "<table border=\"1\" class=\"dataframe\">\n",
       "  <thead>\n",
       "    <tr style=\"text-align: right;\">\n",
       "      <th></th>\n",
       "      <th>movie_id</th>\n",
       "      <th>year_of_release</th>\n",
       "      <th>movie_title</th>\n",
       "    </tr>\n",
       "  </thead>\n",
       "  <tbody>\n",
       "    <tr>\n",
       "      <th>4387</th>\n",
       "      <td>4388</td>\n",
       "      <td>NaN</td>\n",
       "      <td>Ancient Civilizations: Rome and Pompeii</td>\n",
       "    </tr>\n",
       "    <tr>\n",
       "      <th>4793</th>\n",
       "      <td>4794</td>\n",
       "      <td>NaN</td>\n",
       "      <td>Ancient Civilizations: Land of the Pharaohs</td>\n",
       "    </tr>\n",
       "    <tr>\n",
       "      <th>7240</th>\n",
       "      <td>7241</td>\n",
       "      <td>NaN</td>\n",
       "      <td>Ancient Civilizations: Athens and Greece</td>\n",
       "    </tr>\n",
       "    <tr>\n",
       "      <th>10781</th>\n",
       "      <td>10782</td>\n",
       "      <td>NaN</td>\n",
       "      <td>Roti Kapada Aur Makaan</td>\n",
       "    </tr>\n",
       "    <tr>\n",
       "      <th>15917</th>\n",
       "      <td>15918</td>\n",
       "      <td>NaN</td>\n",
       "      <td>Hote Hote Pyaar Ho Gaya</td>\n",
       "    </tr>\n",
       "    <tr>\n",
       "      <th>16677</th>\n",
       "      <td>16678</td>\n",
       "      <td>NaN</td>\n",
       "      <td>Jimmy Hollywood</td>\n",
       "    </tr>\n",
       "    <tr>\n",
       "      <th>17666</th>\n",
       "      <td>17667</td>\n",
       "      <td>NaN</td>\n",
       "      <td>Eros Dance Dhamaka</td>\n",
       "    </tr>\n",
       "  </tbody>\n",
       "</table>\n",
       "</div>"
      ],
      "text/plain": [
       "       movie_id  year_of_release                                  movie_title\n",
       "4387       4388              NaN      Ancient Civilizations: Rome and Pompeii\n",
       "4793       4794              NaN  Ancient Civilizations: Land of the Pharaohs\n",
       "7240       7241              NaN     Ancient Civilizations: Athens and Greece\n",
       "10781     10782              NaN                       Roti Kapada Aur Makaan\n",
       "15917     15918              NaN                      Hote Hote Pyaar Ho Gaya\n",
       "16677     16678              NaN                              Jimmy Hollywood\n",
       "17666     17667              NaN                           Eros Dance Dhamaka"
      ]
     },
     "execution_count": 15,
     "metadata": {},
     "output_type": "execute_result"
    }
   ],
   "source": [
    "netflix_titles_df[netflix_titles_df['year_of_release'].isnull()]"
   ]
  },
  {
   "cell_type": "code",
   "execution_count": 16,
   "id": "6564d34d-04cb-4c6f-b43c-d18dbb2d3423",
   "metadata": {},
   "outputs": [],
   "source": [
    "netflix_titles_df.fillna(method=\"ffill\", inplace=True)"
   ]
  },
  {
   "cell_type": "code",
   "execution_count": 17,
   "id": "51106992-e526-416b-8c5b-c66ff6eda808",
   "metadata": {},
   "outputs": [
    {
     "data": {
      "text/html": [
       "<div>\n",
       "<style scoped>\n",
       "    .dataframe tbody tr th:only-of-type {\n",
       "        vertical-align: middle;\n",
       "    }\n",
       "\n",
       "    .dataframe tbody tr th {\n",
       "        vertical-align: top;\n",
       "    }\n",
       "\n",
       "    .dataframe thead th {\n",
       "        text-align: right;\n",
       "    }\n",
       "</style>\n",
       "<table border=\"1\" class=\"dataframe\">\n",
       "  <thead>\n",
       "    <tr style=\"text-align: right;\">\n",
       "      <th></th>\n",
       "      <th>movie_id</th>\n",
       "      <th>year_of_release</th>\n",
       "      <th>movie_title</th>\n",
       "    </tr>\n",
       "  </thead>\n",
       "  <tbody>\n",
       "  </tbody>\n",
       "</table>\n",
       "</div>"
      ],
      "text/plain": [
       "Empty DataFrame\n",
       "Columns: [movie_id, year_of_release, movie_title]\n",
       "Index: []"
      ]
     },
     "execution_count": 17,
     "metadata": {},
     "output_type": "execute_result"
    }
   ],
   "source": [
    "netflix_titles_df[netflix_titles_df['year_of_release'].isnull()]"
   ]
  },
  {
   "cell_type": "code",
   "execution_count": 18,
   "id": "11373b71-f437-4d1b-93f8-60272871d0a0",
   "metadata": {},
   "outputs": [],
   "source": [
    "df_new=netflix_rating_df.copy()"
   ]
  },
  {
   "cell_type": "code",
   "execution_count": 19,
   "id": "ecba3035-975a-40a9-a82e-da21367b9ccd",
   "metadata": {},
   "outputs": [],
   "source": [
    "df_new=df_new.merge(netflix_titles_df, on='movie_id')"
   ]
  },
  {
   "cell_type": "code",
   "execution_count": 20,
   "id": "789c8b1c-df22-4ee7-ab9a-314fa98a1ceb",
   "metadata": {},
   "outputs": [
    {
     "data": {
      "text/html": [
       "<div>\n",
       "<style scoped>\n",
       "    .dataframe tbody tr th:only-of-type {\n",
       "        vertical-align: middle;\n",
       "    }\n",
       "\n",
       "    .dataframe tbody tr th {\n",
       "        vertical-align: top;\n",
       "    }\n",
       "\n",
       "    .dataframe thead th {\n",
       "        text-align: right;\n",
       "    }\n",
       "</style>\n",
       "<table border=\"1\" class=\"dataframe\">\n",
       "  <thead>\n",
       "    <tr style=\"text-align: right;\">\n",
       "      <th></th>\n",
       "      <th>movie_id</th>\n",
       "      <th>customer_id</th>\n",
       "      <th>rating</th>\n",
       "      <th>date</th>\n",
       "      <th>year_of_release</th>\n",
       "      <th>movie_title</th>\n",
       "    </tr>\n",
       "  </thead>\n",
       "  <tbody>\n",
       "    <tr>\n",
       "      <th>0</th>\n",
       "      <td>13368</td>\n",
       "      <td>2385003</td>\n",
       "      <td>4</td>\n",
       "      <td>2004-07-08</td>\n",
       "      <td>1999.0</td>\n",
       "      <td>Sarfarosh</td>\n",
       "    </tr>\n",
       "    <tr>\n",
       "      <th>1</th>\n",
       "      <td>13368</td>\n",
       "      <td>659432</td>\n",
       "      <td>3</td>\n",
       "      <td>2005-03-16</td>\n",
       "      <td>1999.0</td>\n",
       "      <td>Sarfarosh</td>\n",
       "    </tr>\n",
       "    <tr>\n",
       "      <th>2</th>\n",
       "      <td>13368</td>\n",
       "      <td>751812</td>\n",
       "      <td>2</td>\n",
       "      <td>2002-12-16</td>\n",
       "      <td>1999.0</td>\n",
       "      <td>Sarfarosh</td>\n",
       "    </tr>\n",
       "    <tr>\n",
       "      <th>3</th>\n",
       "      <td>13368</td>\n",
       "      <td>2625420</td>\n",
       "      <td>2</td>\n",
       "      <td>2004-05-25</td>\n",
       "      <td>1999.0</td>\n",
       "      <td>Sarfarosh</td>\n",
       "    </tr>\n",
       "    <tr>\n",
       "      <th>4</th>\n",
       "      <td>13368</td>\n",
       "      <td>1650301</td>\n",
       "      <td>1</td>\n",
       "      <td>2005-08-30</td>\n",
       "      <td>1999.0</td>\n",
       "      <td>Sarfarosh</td>\n",
       "    </tr>\n",
       "  </tbody>\n",
       "</table>\n",
       "</div>"
      ],
      "text/plain": [
       "   movie_id  customer_id  rating        date  year_of_release movie_title\n",
       "0     13368      2385003       4  2004-07-08           1999.0   Sarfarosh\n",
       "1     13368       659432       3  2005-03-16           1999.0   Sarfarosh\n",
       "2     13368       751812       2  2002-12-16           1999.0   Sarfarosh\n",
       "3     13368      2625420       2  2004-05-25           1999.0   Sarfarosh\n",
       "4     13368      1650301       1  2005-08-30           1999.0   Sarfarosh"
      ]
     },
     "execution_count": 20,
     "metadata": {},
     "output_type": "execute_result"
    }
   ],
   "source": [
    "df_new.head()"
   ]
  },
  {
   "cell_type": "code",
   "execution_count": 21,
   "id": "1d3c06ab-5f14-4712-b6e5-4e48c2fd8f19",
   "metadata": {},
   "outputs": [
    {
     "name": "stdout",
     "output_type": "stream",
     "text": [
      "Total number of movie ratings = 26847523\n",
      "Number of unique users = 475601\n",
      "Number of unique movies = 4403\n",
      "Number of unique Movie Names = 4376\n"
     ]
    }
   ],
   "source": [
    "print(\"Total number of movie ratings = \"+str(df_new.shape[0]))\n",
    "print(\"Number of unique users = \"+str(len(np.unique(df_new[\"customer_id\"]))))\n",
    "print(\"Number of unique movies = \"+str(len(np.unique(df_new[\"movie_id\"]))))\n",
    "print(\"Number of unique Movie Names = \"+str(len(np.unique(df_new[\"movie_title\"]))))"
   ]
  },
  {
   "cell_type": "code",
   "execution_count": 22,
   "id": "0eb5b77d-be16-49a1-9a0b-87d306078393",
   "metadata": {},
   "outputs": [
    {
     "data": {
      "text/plain": [
       "movie_title\n",
       "Lord of the Rings: The Return of the King: Extended Edition    4.723270\n",
       "Fullmetal Alchemist                                            4.605021\n",
       "Trailer Park Boys: Season 3                                    4.600000\n",
       "The Shawshank Redemption: Special Edition                      4.593384\n",
       "Lord of the Rings: The Return of the King                      4.545121\n",
       "                                                                 ...   \n",
       "Vampiyaz                                                       1.503916\n",
       "Rise of the Undead                                             1.502959\n",
       "Absolution                                                     1.400000\n",
       "Vampire Assassins                                              1.396761\n",
       "Zodiac Killer                                                  1.346021\n",
       "Name: rating, Length: 4376, dtype: float64"
      ]
     },
     "execution_count": 22,
     "metadata": {},
     "output_type": "execute_result"
    }
   ],
   "source": [
    "df_new.groupby(['movie_title']).mean()['rating'].sort_values(ascending=False)"
   ]
  },
  {
   "cell_type": "code",
   "execution_count": 23,
   "id": "1cd5d37b-957d-4a5a-aef0-720552ee5716",
   "metadata": {},
   "outputs": [
    {
     "data": {
      "text/plain": [
       "<AxesSubplot:xlabel='rating', ylabel='count'>"
      ]
     },
     "execution_count": 23,
     "metadata": {},
     "output_type": "execute_result"
    },
    {
     "data": {
      "image/png": "[encoded data removed]",
      "text/plain": [
       "<Figure size 432x288 with 1 Axes>"
      ]
     },
     "metadata": {
      "needs_background": "light"
     },
     "output_type": "display_data"
    }
   ],
   "source": [
    "sns.countplot(x=\"rating\", data=df_new)"
   ]
  },
  {
   "cell_type": "code",
   "execution_count": 24,
   "id": "8275934a-627e-43bb-bbbc-88638b59be26",
   "metadata": {},
   "outputs": [
    {
     "data": {
      "text/plain": [
       "movie_title\n",
       "Independence Day                       216596\n",
       "The Patriot                            200832\n",
       "The Day After Tomorrow                 196397\n",
       "The Green Mile                         181426\n",
       "Con Air                                178068\n",
       "                                        ...  \n",
       "Frank Zappa: The Dub Room Special          36\n",
       "Danielle Steel's Once in a Lifetime        36\n",
       "My Wife's Murder                           29\n",
       "Ah! My Goddess                             23\n",
       "Mobsters and Mormons                        3\n",
       "Name: rating, Length: 4376, dtype: int64"
      ]
     },
     "execution_count": 24,
     "metadata": {},
     "output_type": "execute_result"
    }
   ],
   "source": [
    "df_new.groupby(['movie_title']).count()['rating'].sort_values(ascending=False)"
   ]
  },
  {
   "cell_type": "code",
   "execution_count": 25,
   "id": "13d405f6-a337-4c80-a158-3fe3fe414dec",
   "metadata": {},
   "outputs": [
    {
     "data": {
      "text/html": [
       "<div>\n",
       "<style scoped>\n",
       "    .dataframe tbody tr th:only-of-type {\n",
       "        vertical-align: middle;\n",
       "    }\n",
       "\n",
       "    .dataframe tbody tr th {\n",
       "        vertical-align: top;\n",
       "    }\n",
       "\n",
       "    .dataframe thead th {\n",
       "        text-align: right;\n",
       "    }\n",
       "</style>\n",
       "<table border=\"1\" class=\"dataframe\">\n",
       "  <thead>\n",
       "    <tr style=\"text-align: right;\">\n",
       "      <th></th>\n",
       "      <th>No. of Ratings</th>\n",
       "      <th>Avg. Rating</th>\n",
       "    </tr>\n",
       "    <tr>\n",
       "      <th>movie_title</th>\n",
       "      <th></th>\n",
       "      <th></th>\n",
       "    </tr>\n",
       "  </thead>\n",
       "  <tbody>\n",
       "    <tr>\n",
       "      <th>Independence Day</th>\n",
       "      <td>216596</td>\n",
       "      <td>3.724238</td>\n",
       "    </tr>\n",
       "    <tr>\n",
       "      <th>The Patriot</th>\n",
       "      <td>200832</td>\n",
       "      <td>3.783854</td>\n",
       "    </tr>\n",
       "    <tr>\n",
       "      <th>The Day After Tomorrow</th>\n",
       "      <td>196397</td>\n",
       "      <td>3.442166</td>\n",
       "    </tr>\n",
       "    <tr>\n",
       "      <th>The Green Mile</th>\n",
       "      <td>181426</td>\n",
       "      <td>4.306941</td>\n",
       "    </tr>\n",
       "    <tr>\n",
       "      <th>Con Air</th>\n",
       "      <td>178068</td>\n",
       "      <td>3.454411</td>\n",
       "    </tr>\n",
       "  </tbody>\n",
       "</table>\n",
       "</div>"
      ],
      "text/plain": [
       "                        No. of Ratings  Avg. Rating\n",
       "movie_title                                        \n",
       "Independence Day                216596     3.724238\n",
       "The Patriot                     200832     3.783854\n",
       "The Day After Tomorrow          196397     3.442166\n",
       "The Green Mile                  181426     4.306941\n",
       "Con Air                         178068     3.454411"
      ]
     },
     "execution_count": 25,
     "metadata": {},
     "output_type": "execute_result"
    }
   ],
   "source": [
    "movie_count=df_new.groupby(['movie_title']).count()['rating'].sort_values(ascending=False)\n",
    "mean_ratings=df_new.groupby(['movie_title']).mean()['rating'].sort_values(ascending=False)\n",
    "ratings=pd.concat([movie_count,mean_ratings],axis=1)\n",
    "ratings.columns=['No. of Ratings','Avg. Rating']\n",
    "ratings.head()"
   ]
  },
  {
   "cell_type": "code",
   "execution_count": 26,
   "id": "fb9342f6-6744-482f-9858-5cfce3ea7ec7",
   "metadata": {},
   "outputs": [
    {
     "data": {
      "text/plain": [
       "array([[<AxesSubplot:title={'center':'No. of Ratings'}>,\n",
       "        <AxesSubplot:title={'center':'Avg. Rating'}>]], dtype=object)"
      ]
     },
     "execution_count": 26,
     "metadata": {},
     "output_type": "execute_result"
    },
    {
     "data": {
      "text/plain": [
       "<Figure size 1080x1080 with 0 Axes>"
      ]
     },
     "metadata": {},
     "output_type": "display_data"
    },
    {
     "data": {
      "image/png": "[encoded data removed]",
      "text/plain": [
       "<Figure size 432x288 with 2 Axes>"
      ]
     },
     "metadata": {
      "needs_background": "light"
     },
     "output_type": "display_data"
    }
   ],
   "source": [
    "plt.figure(figsize=(15,15))\n",
    "ratings.hist(bins=50)"
   ]
  },
  {
   "cell_type": "code",
   "execution_count": 27,
   "id": "43a91e68-cee5-4756-92f3-5dc232045171",
   "metadata": {},
   "outputs": [
    {
     "data": {
      "text/plain": [
       "[<matplotlib.lines.Line2D at 0x25cfe2aa340>]"
      ]
     },
     "execution_count": 27,
     "metadata": {},
     "output_type": "execute_result"
    },
    {
     "data": {
      "image/png": "[encoded data removed]",
      "text/plain": [
       "<Figure size 432x288 with 1 Axes>"
      ]
     },
     "metadata": {
      "needs_background": "light"
     },
     "output_type": "display_data"
    }
   ],
   "source": [
    "plt.plot(ratings['No. of Ratings'].values)"
   ]
  },
  {
   "cell_type": "code",
   "execution_count": 28,
   "id": "89446f3e-03f4-47cc-b38e-bc15781ed894",
   "metadata": {},
   "outputs": [
    {
     "data": {
      "text/plain": [
       "<AxesSubplot:xlabel='No. of Ratings', ylabel='Avg. Rating'>"
      ]
     },
     "execution_count": 28,
     "metadata": {},
     "output_type": "execute_result"
    },
    {
     "data": {
      "image/png": "[encoded data removed]",
      "text/plain": [
       "<Figure size 432x288 with 1 Axes>"
      ]
     },
     "metadata": {
      "needs_background": "light"
     },
     "output_type": "display_data"
    }
   ],
   "source": [
    "sns.scatterplot(y='Avg. Rating',x='No. of Ratings',data=ratings)"
   ]
  },
  {
   "cell_type": "code",
   "execution_count": 29,
   "id": "309f4e7f-eaf1-4415-ab8d-22e4ea80665d",
   "metadata": {},
   "outputs": [
    {
     "data": {
      "text/html": [
       "<div>\n",
       "<style scoped>\n",
       "    .dataframe tbody tr th:only-of-type {\n",
       "        vertical-align: middle;\n",
       "    }\n",
       "\n",
       "    .dataframe tbody tr th {\n",
       "        vertical-align: top;\n",
       "    }\n",
       "\n",
       "    .dataframe thead th {\n",
       "        text-align: right;\n",
       "    }\n",
       "</style>\n",
       "<table border=\"1\" class=\"dataframe\">\n",
       "  <thead>\n",
       "    <tr style=\"text-align: right;\">\n",
       "      <th></th>\n",
       "      <th>movie_id</th>\n",
       "      <th>customer_id</th>\n",
       "      <th>rating</th>\n",
       "      <th>date</th>\n",
       "      <th>year_of_release</th>\n",
       "      <th>movie_title</th>\n",
       "      <th>watched_year</th>\n",
       "    </tr>\n",
       "  </thead>\n",
       "  <tbody>\n",
       "    <tr>\n",
       "      <th>0</th>\n",
       "      <td>13368</td>\n",
       "      <td>2385003</td>\n",
       "      <td>4</td>\n",
       "      <td>2004-07-08</td>\n",
       "      <td>1999.0</td>\n",
       "      <td>Sarfarosh</td>\n",
       "      <td>2004</td>\n",
       "    </tr>\n",
       "    <tr>\n",
       "      <th>1</th>\n",
       "      <td>13368</td>\n",
       "      <td>659432</td>\n",
       "      <td>3</td>\n",
       "      <td>2005-03-16</td>\n",
       "      <td>1999.0</td>\n",
       "      <td>Sarfarosh</td>\n",
       "      <td>2005</td>\n",
       "    </tr>\n",
       "    <tr>\n",
       "      <th>2</th>\n",
       "      <td>13368</td>\n",
       "      <td>751812</td>\n",
       "      <td>2</td>\n",
       "      <td>2002-12-16</td>\n",
       "      <td>1999.0</td>\n",
       "      <td>Sarfarosh</td>\n",
       "      <td>2002</td>\n",
       "    </tr>\n",
       "    <tr>\n",
       "      <th>3</th>\n",
       "      <td>13368</td>\n",
       "      <td>2625420</td>\n",
       "      <td>2</td>\n",
       "      <td>2004-05-25</td>\n",
       "      <td>1999.0</td>\n",
       "      <td>Sarfarosh</td>\n",
       "      <td>2004</td>\n",
       "    </tr>\n",
       "    <tr>\n",
       "      <th>4</th>\n",
       "      <td>13368</td>\n",
       "      <td>1650301</td>\n",
       "      <td>1</td>\n",
       "      <td>2005-08-30</td>\n",
       "      <td>1999.0</td>\n",
       "      <td>Sarfarosh</td>\n",
       "      <td>2005</td>\n",
       "    </tr>\n",
       "  </tbody>\n",
       "</table>\n",
       "</div>"
      ],
      "text/plain": [
       "   movie_id  customer_id  rating        date  year_of_release movie_title  \\\n",
       "0     13368      2385003       4  2004-07-08           1999.0   Sarfarosh   \n",
       "1     13368       659432       3  2005-03-16           1999.0   Sarfarosh   \n",
       "2     13368       751812       2  2002-12-16           1999.0   Sarfarosh   \n",
       "3     13368      2625420       2  2004-05-25           1999.0   Sarfarosh   \n",
       "4     13368      1650301       1  2005-08-30           1999.0   Sarfarosh   \n",
       "\n",
       "   watched_year  \n",
       "0          2004  \n",
       "1          2005  \n",
       "2          2002  \n",
       "3          2004  \n",
       "4          2005  "
      ]
     },
     "execution_count": 29,
     "metadata": {},
     "output_type": "execute_result"
    }
   ],
   "source": [
    "df_new['watched_year']=pd.DatetimeIndex(df_new['date']).year\n",
    "df_new.head()"
   ]
  },
  {
   "cell_type": "code",
   "execution_count": 30,
   "id": "09a15747-2c50-423b-ad0d-4abab4c9491b",
   "metadata": {},
   "outputs": [
    {
     "data": {
      "text/plain": [
       "2005    14302026\n",
       "2004     7957031\n",
       "2003     2579640\n",
       "2002     1219406\n",
       "2001      526771\n",
       "2000      262084\n",
       "1999         565\n",
       "Name: watched_year, dtype: int64"
      ]
     },
     "execution_count": 30,
     "metadata": {},
     "output_type": "execute_result"
    }
   ],
   "source": [
    "df_new['watched_year'].value_counts()"
   ]
  },
  {
   "cell_type": "code",
   "execution_count": 31,
   "id": "cbad711f-607b-4394-8e7b-db5783085241",
   "metadata": {},
   "outputs": [
    {
     "data": {
      "text/plain": [
       "<AxesSubplot:>"
      ]
     },
     "execution_count": 31,
     "metadata": {},
     "output_type": "execute_result"
    },
    {
     "data": {
      "image/png": "[encoded data removed]",
      "text/plain": [
       "<Figure size 432x288 with 1 Axes>"
      ]
     },
     "metadata": {
      "needs_background": "light"
     },
     "output_type": "display_data"
    }
   ],
   "source": [
    "df_new['watched_year'].value_counts().plot()"
   ]
  },
  {
   "cell_type": "code",
   "execution_count": 32,
   "id": "a2c3981f-2013-4424-a864-9377813f6674",
   "metadata": {},
   "outputs": [
    {
     "data": {
      "text/plain": [
       "<AxesSubplot:xlabel='watched_year', ylabel='count'>"
      ]
     },
     "execution_count": 32,
     "metadata": {},
     "output_type": "execute_result"
    },
    {
     "data": {
      "image/png": "[encoded data removed]",
      "text/plain": [
       "<Figure size 360x360 with 1 Axes>"
      ]
     },
     "metadata": {
      "needs_background": "light"
     },
     "output_type": "display_data"
    }
   ],
   "source": [
    "plt.figure(figsize=(5,5))\n",
    "sns.countplot(data=df_new, x='watched_year')"
   ]
  },
  {
   "cell_type": "code",
   "execution_count": 33,
   "id": "25a7c4ab-bff9-4289-bc0d-dc3c339f230d",
   "metadata": {},
   "outputs": [],
   "source": [
    "cust_count=df_new.groupby(['customer_id']).count()['rating'].sort_values(ascending=False)\n",
    "cust_ratings_mean=df_new.groupby(['customer_id']).mean()['rating'].sort_values(ascending=False)"
   ]
  },
  {
   "cell_type": "code",
   "execution_count": 34,
   "id": "4669d84f-c093-472c-94b8-2c643acb3840",
   "metadata": {},
   "outputs": [
    {
     "data": {
      "text/html": [
       "<div>\n",
       "<style scoped>\n",
       "    .dataframe tbody tr th:only-of-type {\n",
       "        vertical-align: middle;\n",
       "    }\n",
       "\n",
       "    .dataframe tbody tr th {\n",
       "        vertical-align: top;\n",
       "    }\n",
       "\n",
       "    .dataframe thead th {\n",
       "        text-align: right;\n",
       "    }\n",
       "</style>\n",
       "<table border=\"1\" class=\"dataframe\">\n",
       "  <thead>\n",
       "    <tr style=\"text-align: right;\">\n",
       "      <th></th>\n",
       "      <th>No. of Ratings</th>\n",
       "      <th>Avg. Rating</th>\n",
       "    </tr>\n",
       "    <tr>\n",
       "      <th>customer_id</th>\n",
       "      <th></th>\n",
       "      <th></th>\n",
       "    </tr>\n",
       "  </thead>\n",
       "  <tbody>\n",
       "    <tr>\n",
       "      <th>305344</th>\n",
       "      <td>4378</td>\n",
       "      <td>1.910918</td>\n",
       "    </tr>\n",
       "    <tr>\n",
       "      <th>387418</th>\n",
       "      <td>4310</td>\n",
       "      <td>1.804640</td>\n",
       "    </tr>\n",
       "    <tr>\n",
       "      <th>2439493</th>\n",
       "      <td>4126</td>\n",
       "      <td>1.229278</td>\n",
       "    </tr>\n",
       "    <tr>\n",
       "      <th>1664010</th>\n",
       "      <td>3908</td>\n",
       "      <td>4.286847</td>\n",
       "    </tr>\n",
       "    <tr>\n",
       "      <th>2118461</th>\n",
       "      <td>3688</td>\n",
       "      <td>4.102766</td>\n",
       "    </tr>\n",
       "  </tbody>\n",
       "</table>\n",
       "</div>"
      ],
      "text/plain": [
       "             No. of Ratings  Avg. Rating\n",
       "customer_id                             \n",
       "305344                 4378     1.910918\n",
       "387418                 4310     1.804640\n",
       "2439493                4126     1.229278\n",
       "1664010                3908     4.286847\n",
       "2118461                3688     4.102766"
      ]
     },
     "execution_count": 34,
     "metadata": {},
     "output_type": "execute_result"
    }
   ],
   "source": [
    "cust_ratings=pd.concat([cust_count,cust_ratings_mean],axis=1)\n",
    "cust_ratings.columns=['No. of Ratings','Avg. Rating']\n",
    "cust_ratings.sort_values(by='No. of Ratings',inplace=True,ascending=False)\n",
    "cust_ratings.head()"
   ]
  },
  {
   "cell_type": "code",
   "execution_count": 35,
   "id": "0c9f5e4b-f7d5-41da-81b7-59b1e09ca5fe",
   "metadata": {},
   "outputs": [
    {
     "data": {
      "text/plain": [
       "<AxesSubplot:>"
      ]
     },
     "execution_count": 35,
     "metadata": {},
     "output_type": "execute_result"
    },
    {
     "data": {
      "image/png": "[encoded data removed]",
      "text/plain": [
       "<Figure size 576x288 with 1 Axes>"
      ]
     },
     "metadata": {
      "needs_background": "light"
     },
     "output_type": "display_data"
    }
   ],
   "source": [
    "plt.figure(figsize=(8,4))\n",
    "cust_count.hist(bins=50)"
   ]
  },
  {
   "cell_type": "code",
   "execution_count": 36,
   "id": "deadeff4-7ef3-4561-adff-41f8b85e4e4c",
   "metadata": {},
   "outputs": [
    {
     "data": {
      "text/plain": [
       "[<matplotlib.lines.Line2D at 0x25cffa33250>]"
      ]
     },
     "execution_count": 36,
     "metadata": {},
     "output_type": "execute_result"
    },
    {
     "data": {
      "image/png": "[encoded data removed]",
      "text/plain": [
       "<Figure size 432x288 with 1 Axes>"
      ]
     },
     "metadata": {
      "needs_background": "light"
     },
     "output_type": "display_data"
    }
   ],
   "source": [
    "plt.plot(cust_count.values)"
   ]
  },
  {
   "cell_type": "markdown",
   "id": "5b5490b8-b74c-4f40-9e3d-50b471c3feb2",
   "metadata": {},
   "source": [
    "# 희소행렬과 연산"
   ]
  },
  {
   "cell_type": "code",
   "execution_count": 37,
   "id": "37d301d3-d1d0-43f5-83ad-ce129d8ada09",
   "metadata": {},
   "outputs": [],
   "source": [
    "split_value = int(len(df_new) * 0.80)\n",
    "train_data = df_new[:split_value]\n",
    "test_data = df_new[split_value:]"
   ]
  },
  {
   "cell_type": "code",
   "execution_count": 38,
   "id": "753be4be-7b24-4cc3-bbfc-771f3269aa29",
   "metadata": {},
   "outputs": [],
   "source": [
    "def get_user_item_sparse_matrix(df):\n",
    "    sparse_data = sparse.csr_matrix((df.rating, (df.customer_id, df.movie_id)))\n",
    "    return sparse_data"
   ]
  },
  {
   "cell_type": "code",
   "execution_count": 39,
   "id": "6c8a5c33-4767-4811-a2f0-fedd249b1462",
   "metadata": {},
   "outputs": [
    {
     "name": "stdout",
     "output_type": "stream",
     "text": [
      "Global Average Rating: 3.6291294662291467\n"
     ]
    }
   ],
   "source": [
    "train_sparse_data = get_user_item_sparse_matrix(train_data)\n",
    "test_sparse_data = get_user_item_sparse_matrix(test_data)\n",
    "global_average_rating = train_sparse_data.sum()/train_sparse_data.count_nonzero()\n",
    "print(f\"Global Average Rating: {global_average_rating}\")"
   ]
  },
  {
   "cell_type": "code",
   "execution_count": 40,
   "id": "1082cfca-7256-4adf-a6ba-97bc9a145647",
   "metadata": {},
   "outputs": [],
   "source": [
    "def get_average_rating(sparse_matrix, is_user):\n",
    "    ax = 1 if is_user else 0\n",
    "    sum_of_ratings = sparse_matrix.sum(axis = ax).A1\n",
    "    no_of_ratings = (sparse_matrix != 0).sum(axis = ax).A1\n",
    "    rows, cols = sparse_matrix.shape\n",
    "    average_ratings = {i: sum_of_ratings[i]/no_of_ratings[i] for i in range(rows if is_user else cols) if no_of_ratings[i] != 0}\n",
    "    return average_ratings"
   ]
  },
  {
   "cell_type": "code",
   "execution_count": 41,
   "id": "36295ec9-d7a4-465f-878c-598c393281c9",
   "metadata": {},
   "outputs": [],
   "source": [
    "avg_rating_user = get_average_rating(train_sparse_data, True)\n",
    "avg_rating_movie = get_average_rating(train_sparse_data, False)"
   ]
  },
  {
   "cell_type": "code",
   "execution_count": 43,
   "id": "bfccab47-2e0a-491c-a84e-42dd1b0f3e89",
   "metadata": {},
   "outputs": [
    {
     "name": "stdout",
     "output_type": "stream",
     "text": [
      "전체 사용자수 475601 명\n",
      "평가에 참여한 사용자수 473014 명\n",
      "평가에 참여하지 않은 사용자수 = 2587 명, 약 1.0%\n"
     ]
    }
   ],
   "source": [
    "total_users = len(np.unique(df_new[\"customer_id\"]))\n",
    "train_users = len(avg_rating_user)\n",
    "uncommonUsers = total_users - train_users\n",
    "print(f\"전체 사용자수 {total_users} 명\")\n",
    "print(f\"평가에 참여한 사용자수 {train_users} 명\")\n",
    "print(f\"평가에 참여하지 않은 사용자수 = {uncommonUsers} 명, 약 {np.round((uncommonUsers/total_users)*100)}%\")"
   ]
  },
  {
   "cell_type": "code",
   "execution_count": 44,
   "id": "5b2989b8-bbcc-476e-bcc8-1a61bb0ddeb4",
   "metadata": {},
   "outputs": [
    {
     "name": "stdout",
     "output_type": "stream",
     "text": [
      "전체 영화 4403 편\n",
      "평가된 영화 3515 편\n",
      "평가되지 않은 영화 888 편, 약 20.0%\n"
     ]
    }
   ],
   "source": [
    "total_movies = len(np.unique(df_new[\"movie_id\"]))\n",
    "train_movies = len(avg_rating_movie)\n",
    "uncommonMovies = total_movies - train_movies\n",
    "print(f\"전체 영화 {total_movies} 편\")\n",
    "print(f\"평가된 영화 {train_movies} 편\")\n",
    "print(f\"평가되지 않은 영화 {uncommonMovies} 편, 약 {np.round((uncommonMovies/total_movies)*100)}%\")"
   ]
  },
  {
   "cell_type": "markdown",
   "id": "01224140-dc36-45b4-9afd-98d6b4be3539",
   "metadata": {},
   "source": [
    "# 유사도 계산"
   ]
  },
  {
   "cell_type": "code",
   "execution_count": 45,
   "id": "6b7931c7-52a7-4af5-9bee-0476c79723a8",
   "metadata": {},
   "outputs": [],
   "source": [
    "def compute_user_similarity(sparse_matrix, limit=100):\n",
    "    row_index, col_index = sparse_matrix.nonzero()\n",
    "    rows = np.unique(row_index)\n",
    "    similar_arr = np.zeros(61700).reshape(617,100)\n",
    "    for row in rows[:limit]:\n",
    "        sim = cosine_similarity(sparse_matrix.getrow(row), train_sparse_data).ravel()\n",
    "        similar_indices = sim.argsort()[-limit:]\n",
    "        similar = sim[similar_indices]\n",
    "        similar_arr[row] = similar\n",
    "    return similar_arr"
   ]
  },
  {
   "cell_type": "code",
   "execution_count": 46,
   "id": "6fecf9a3-82a4-4d33-9617-6844782bd5f3",
   "metadata": {},
   "outputs": [
    {
     "data": {
      "text/plain": [
       "array([0., 0., 0., 0., 0., 0., 0., 0., 0., 0., 0., 0., 0., 0., 0., 0., 0.,\n",
       "       0., 0., 0., 0., 0., 0., 0., 0., 0., 0., 0., 0., 0., 0., 0., 0., 0.,\n",
       "       0., 0., 0., 0., 0., 0., 0., 0., 0., 0., 0., 0., 0., 0., 0., 0., 0.,\n",
       "       0., 0., 0., 0., 0., 0., 0., 0., 0., 0., 0., 0., 0., 0., 0., 0., 0.,\n",
       "       0., 0., 0., 0., 0., 0., 0., 0., 0., 0., 0., 0., 0., 0., 0., 0., 0.,\n",
       "       0., 0., 0., 0., 0., 0., 0., 0., 0., 0., 0., 0., 0., 0., 0.])"
      ]
     },
     "execution_count": 46,
     "metadata": {},
     "output_type": "execute_result"
    }
   ],
   "source": [
    "similar_user_matrix = compute_user_similarity(train_sparse_data, 100)\n",
    "similar_user_matrix[0]"
   ]
  },
  {
   "cell_type": "code",
   "execution_count": 47,
   "id": "937aa7f8-da4e-4a95-92d1-39a6f8a15e10",
   "metadata": {},
   "outputs": [],
   "source": [
    "def compute_movie_similarity_count(sparse_matrix, movie_titles_df, movie_id):\n",
    "    similarity = cosine_similarity(sparse_matrix.T, dense_output = False)\n",
    "    no_of_similar_movies = movie_titles_df.loc[movie_id][1], similarity[movie_id].count_nonzero()\n",
    "    return no_of_similar_movies"
   ]
  },
  {
   "cell_type": "code",
   "execution_count": 48,
   "id": "7faaab73-2120-494d-ae24-0c6696d84c39",
   "metadata": {},
   "outputs": [
    {
     "name": "stdout",
     "output_type": "stream",
     "text": [
      "영화의 유사도 (1132764, 0)\n"
     ]
    }
   ],
   "source": [
    "similar_movies = compute_movie_similarity_count(train_sparse_data, df_new, 1775)\n",
    "print(f\"영화의 유사도 {similar_movies}\")"
   ]
  },
  {
   "cell_type": "code",
   "execution_count": 49,
   "id": "016aea7c-83f8-4715-9c6e-52f392b0368a",
   "metadata": {},
   "outputs": [],
   "source": [
    "def get_sample_sparse_matrix(sparse_matrix, no_of_users, no_of_movies):\n",
    "    users, movies, ratings = sparse.find(sparse_matrix)\n",
    "    uniq_users = np.unique(users)\n",
    "    uniq_movies = np.unique(movies)\n",
    "    np.random.seed(15)\n",
    "    user = np.random.choice(uniq_users, no_of_users, replace = False)\n",
    "    movie = np.random.choice(uniq_movies, no_of_movies, replace = True)\n",
    "    mask = np.logical_and(np.isin(users, user), np.isin(movies, movie))\n",
    "    sparse_matrix = sparse.csr_matrix((ratings[mask], (users[mask], movies[mask])), shape = (max(user)+1, max(movie)+1))\n",
    "    return sparse_matrix"
   ]
  },
  {
   "cell_type": "code",
   "execution_count": 50,
   "id": "7afe7e6f-02f2-49a5-9f15-1e7b8e103037",
   "metadata": {},
   "outputs": [],
   "source": [
    "train_sample_sparse_matrix = get_sample_sparse_matrix(train_sparse_data, 400, 40)\n",
    "test_sparse_matrix_matrix = get_sample_sparse_matrix(test_sparse_data, 200, 20)"
   ]
  },
  {
   "cell_type": "code",
   "execution_count": 51,
   "id": "a7e50a61-19e1-4e18-9adb-bb5436283e99",
   "metadata": {},
   "outputs": [],
   "source": [
    "def create_new_similar_features(sample_sparse_matrix):\n",
    "    global_avg_rating = get_average_rating(sample_sparse_matrix, False)\n",
    "    global_avg_users = get_average_rating(sample_sparse_matrix, True)\n",
    "    global_avg_movies = get_average_rating(sample_sparse_matrix, False)\n",
    "    sample_train_users, sample_train_movies, sample_train_ratings = sparse.find(sample_sparse_matrix)\n",
    "    new_features_csv_file = open('../dataset/recommendation/new_features.csv', mode = \"w\")\n",
    "\n",
    "    for user, movie, rating in zip(sample_train_users, sample_train_movies, sample_train_ratings):\n",
    "        similar_arr = list()\n",
    "        similar_arr.append(user)\n",
    "        similar_arr.append(movie)\n",
    "        similar_arr.append(sample_sparse_matrix.sum()/sample_sparse_matrix.count_nonzero())\n",
    "\n",
    "        similar_users = cosine_similarity(sample_sparse_matrix[user], sample_sparse_matrix).ravel()\n",
    "        indices = np.argsort(-similar_users)[1:]\n",
    "        ratings = sample_sparse_matrix[indices, movie].toarray().ravel()\n",
    "        top_similar_user_ratings = list(ratings[ratings != 0][:5])\n",
    "        top_similar_user_ratings.extend([global_avg_rating[movie]] * (5 - len(ratings)))\n",
    "        similar_arr.extend(top_similar_user_ratings)\n",
    "\n",
    "        similar_movies = cosine_similarity(sample_sparse_matrix[:,movie].T, sample_sparse_matrix.T).ravel()\n",
    "        similar_movies_indices = np.argsort(-similar_movies)[1:]\n",
    "        similar_movies_ratings = sample_sparse_matrix[user, similar_movies_indices].toarray().ravel()\n",
    "        top_similar_movie_ratings = list(similar_movies_ratings[similar_movies_ratings != 0][:5])\n",
    "        top_similar_movie_ratings.extend([global_avg_users[user]] * (5-len(top_similar_movie_ratings)))\n",
    "        similar_arr.extend(top_similar_movie_ratings)\n",
    "\n",
    "        similar_arr.append(global_avg_users[user])\n",
    "        similar_arr.append(global_avg_movies[movie])\n",
    "        similar_arr.append(rating)\n",
    "\n",
    "        new_features_csv_file.write(\",\".join(map(str, similar_arr)))\n",
    "        new_features_csv_file.write(\"\\n\")\n",
    "\n",
    "    new_features_csv_file.close()\n",
    "    new_features_df = pd.read_csv('../dataset/recommendation/new_features.csv', names = [\"user_id\", \"movie_id\", \"gloabl_average\", \"similar_user_rating1\",\n",
    "                                                                                         \"similar_user_rating2\", \"similar_user_rating3\",\n",
    "                                                                                         \"similar_user_rating4\", \"similar_user_rating5\",\n",
    "                                                                                         \"similar_movie_rating1\", \"similar_movie_rating2\",\n",
    "                                                                                         \"similar_movie_rating3\", \"similar_movie_rating4\",\n",
    "                                                                                         \"similar_movie_rating5\", \"user_average\",\n",
    "                                                                                         \"movie_average\", \"rating\"])\n",
    "    return new_features_df"
   ]
  },
  {
   "cell_type": "code",
   "execution_count": 52,
   "id": "99475c42-5451-42af-89b9-bf688dd81fcf",
   "metadata": {},
   "outputs": [
    {
     "data": {
      "text/html": [
       "<div>\n",
       "<style scoped>\n",
       "    .dataframe tbody tr th:only-of-type {\n",
       "        vertical-align: middle;\n",
       "    }\n",
       "\n",
       "    .dataframe tbody tr th {\n",
       "        vertical-align: top;\n",
       "    }\n",
       "\n",
       "    .dataframe thead th {\n",
       "        text-align: right;\n",
       "    }\n",
       "</style>\n",
       "<table border=\"1\" class=\"dataframe\">\n",
       "  <thead>\n",
       "    <tr style=\"text-align: right;\">\n",
       "      <th></th>\n",
       "      <th>user_id</th>\n",
       "      <th>movie_id</th>\n",
       "      <th>gloabl_average</th>\n",
       "      <th>similar_user_rating1</th>\n",
       "      <th>similar_user_rating2</th>\n",
       "      <th>similar_user_rating3</th>\n",
       "      <th>similar_user_rating4</th>\n",
       "      <th>similar_user_rating5</th>\n",
       "      <th>similar_movie_rating1</th>\n",
       "      <th>similar_movie_rating2</th>\n",
       "      <th>similar_movie_rating3</th>\n",
       "      <th>similar_movie_rating4</th>\n",
       "      <th>similar_movie_rating5</th>\n",
       "      <th>user_average</th>\n",
       "      <th>movie_average</th>\n",
       "      <th>rating</th>\n",
       "    </tr>\n",
       "  </thead>\n",
       "  <tbody>\n",
       "    <tr>\n",
       "      <th>0</th>\n",
       "      <td>368756</td>\n",
       "      <td>13393</td>\n",
       "      <td>3.392157</td>\n",
       "      <td>4.0</td>\n",
       "      <td>4.0</td>\n",
       "      <td>4.0</td>\n",
       "      <td>4.0</td>\n",
       "      <td>4.0</td>\n",
       "      <td>4.0</td>\n",
       "      <td>4.0</td>\n",
       "      <td>4.0</td>\n",
       "      <td>0.0</td>\n",
       "      <td>0.0</td>\n",
       "      <td>0.0</td>\n",
       "      <td>0.0</td>\n",
       "      <td>0.0</td>\n",
       "    </tr>\n",
       "    <tr>\n",
       "      <th>1</th>\n",
       "      <td>2593137</td>\n",
       "      <td>13495</td>\n",
       "      <td>3.392157</td>\n",
       "      <td>4.0</td>\n",
       "      <td>4.0</td>\n",
       "      <td>4.0</td>\n",
       "      <td>4.0</td>\n",
       "      <td>4.0</td>\n",
       "      <td>4.0</td>\n",
       "      <td>4.0</td>\n",
       "      <td>4.0</td>\n",
       "      <td>0.0</td>\n",
       "      <td>0.0</td>\n",
       "      <td>0.0</td>\n",
       "      <td>0.0</td>\n",
       "      <td>0.0</td>\n",
       "    </tr>\n",
       "    <tr>\n",
       "      <th>2</th>\n",
       "      <td>96842</td>\n",
       "      <td>13602</td>\n",
       "      <td>3.392157</td>\n",
       "      <td>3.0</td>\n",
       "      <td>5.0</td>\n",
       "      <td>5.0</td>\n",
       "      <td>5.0</td>\n",
       "      <td>5.0</td>\n",
       "      <td>5.0</td>\n",
       "      <td>5.0</td>\n",
       "      <td>5.0</td>\n",
       "      <td>5.0</td>\n",
       "      <td>4.5</td>\n",
       "      <td>5.0</td>\n",
       "      <td>0.0</td>\n",
       "      <td>0.0</td>\n",
       "    </tr>\n",
       "    <tr>\n",
       "      <th>3</th>\n",
       "      <td>486048</td>\n",
       "      <td>13602</td>\n",
       "      <td>3.392157</td>\n",
       "      <td>3.0</td>\n",
       "      <td>5.0</td>\n",
       "      <td>5.0</td>\n",
       "      <td>3.0</td>\n",
       "      <td>3.0</td>\n",
       "      <td>3.0</td>\n",
       "      <td>3.0</td>\n",
       "      <td>3.0</td>\n",
       "      <td>3.0</td>\n",
       "      <td>4.5</td>\n",
       "      <td>3.0</td>\n",
       "      <td>0.0</td>\n",
       "      <td>0.0</td>\n",
       "    </tr>\n",
       "    <tr>\n",
       "      <th>4</th>\n",
       "      <td>940434</td>\n",
       "      <td>13602</td>\n",
       "      <td>3.392157</td>\n",
       "      <td>3.0</td>\n",
       "      <td>5.0</td>\n",
       "      <td>5.0</td>\n",
       "      <td>5.0</td>\n",
       "      <td>5.0</td>\n",
       "      <td>5.0</td>\n",
       "      <td>5.0</td>\n",
       "      <td>5.0</td>\n",
       "      <td>5.0</td>\n",
       "      <td>4.5</td>\n",
       "      <td>5.0</td>\n",
       "      <td>0.0</td>\n",
       "      <td>0.0</td>\n",
       "    </tr>\n",
       "  </tbody>\n",
       "</table>\n",
       "</div>"
      ],
      "text/plain": [
       "   user_id  movie_id  gloabl_average  similar_user_rating1  \\\n",
       "0   368756     13393        3.392157                   4.0   \n",
       "1  2593137     13495        3.392157                   4.0   \n",
       "2    96842     13602        3.392157                   3.0   \n",
       "3   486048     13602        3.392157                   3.0   \n",
       "4   940434     13602        3.392157                   3.0   \n",
       "\n",
       "   similar_user_rating2  similar_user_rating3  similar_user_rating4  \\\n",
       "0                   4.0                   4.0                   4.0   \n",
       "1                   4.0                   4.0                   4.0   \n",
       "2                   5.0                   5.0                   5.0   \n",
       "3                   5.0                   5.0                   3.0   \n",
       "4                   5.0                   5.0                   5.0   \n",
       "\n",
       "   similar_user_rating5  similar_movie_rating1  similar_movie_rating2  \\\n",
       "0                   4.0                    4.0                    4.0   \n",
       "1                   4.0                    4.0                    4.0   \n",
       "2                   5.0                    5.0                    5.0   \n",
       "3                   3.0                    3.0                    3.0   \n",
       "4                   5.0                    5.0                    5.0   \n",
       "\n",
       "   similar_movie_rating3  similar_movie_rating4  similar_movie_rating5  \\\n",
       "0                    4.0                    0.0                    0.0   \n",
       "1                    4.0                    0.0                    0.0   \n",
       "2                    5.0                    5.0                    4.5   \n",
       "3                    3.0                    3.0                    4.5   \n",
       "4                    5.0                    5.0                    4.5   \n",
       "\n",
       "   user_average  movie_average  rating  \n",
       "0           0.0            0.0     0.0  \n",
       "1           0.0            0.0     0.0  \n",
       "2           5.0            0.0     0.0  \n",
       "3           3.0            0.0     0.0  \n",
       "4           5.0            0.0     0.0  "
      ]
     },
     "execution_count": 52,
     "metadata": {},
     "output_type": "execute_result"
    }
   ],
   "source": [
    "train_new_similar_features = create_new_similar_features(train_sample_sparse_matrix)\n",
    "train_new_similar_features = train_new_similar_features.fillna(0)\n",
    "train_new_similar_features.head()"
   ]
  },
  {
   "cell_type": "code",
   "execution_count": 53,
   "id": "76d43089-80a2-4150-a226-31b266f89571",
   "metadata": {},
   "outputs": [
    {
     "data": {
      "text/html": [
       "<div>\n",
       "<style scoped>\n",
       "    .dataframe tbody tr th:only-of-type {\n",
       "        vertical-align: middle;\n",
       "    }\n",
       "\n",
       "    .dataframe tbody tr th {\n",
       "        vertical-align: top;\n",
       "    }\n",
       "\n",
       "    .dataframe thead th {\n",
       "        text-align: right;\n",
       "    }\n",
       "</style>\n",
       "<table border=\"1\" class=\"dataframe\">\n",
       "  <thead>\n",
       "    <tr style=\"text-align: right;\">\n",
       "      <th></th>\n",
       "      <th>user_id</th>\n",
       "      <th>movie_id</th>\n",
       "      <th>gloabl_average</th>\n",
       "      <th>similar_user_rating1</th>\n",
       "      <th>similar_user_rating2</th>\n",
       "      <th>similar_user_rating3</th>\n",
       "      <th>similar_user_rating4</th>\n",
       "      <th>similar_user_rating5</th>\n",
       "      <th>similar_movie_rating1</th>\n",
       "      <th>similar_movie_rating2</th>\n",
       "      <th>similar_movie_rating3</th>\n",
       "      <th>similar_movie_rating4</th>\n",
       "      <th>similar_movie_rating5</th>\n",
       "      <th>user_average</th>\n",
       "      <th>movie_average</th>\n",
       "      <th>rating</th>\n",
       "    </tr>\n",
       "  </thead>\n",
       "  <tbody>\n",
       "    <tr>\n",
       "      <th>0</th>\n",
       "      <td>218348</td>\n",
       "      <td>16977</td>\n",
       "      <td>3.393939</td>\n",
       "      <td>4</td>\n",
       "      <td>1.0</td>\n",
       "      <td>5.0</td>\n",
       "      <td>4.0</td>\n",
       "      <td>3.0</td>\n",
       "      <td>5.0</td>\n",
       "      <td>5.0</td>\n",
       "      <td>5.000000</td>\n",
       "      <td>5.000000</td>\n",
       "      <td>5.000000</td>\n",
       "      <td>5.000000</td>\n",
       "      <td>3.583333</td>\n",
       "      <td>5.0</td>\n",
       "    </tr>\n",
       "    <tr>\n",
       "      <th>1</th>\n",
       "      <td>482111</td>\n",
       "      <td>16977</td>\n",
       "      <td>3.393939</td>\n",
       "      <td>4</td>\n",
       "      <td>1.0</td>\n",
       "      <td>5.0</td>\n",
       "      <td>4.0</td>\n",
       "      <td>3.0</td>\n",
       "      <td>3.0</td>\n",
       "      <td>3.0</td>\n",
       "      <td>3.000000</td>\n",
       "      <td>3.000000</td>\n",
       "      <td>3.000000</td>\n",
       "      <td>3.000000</td>\n",
       "      <td>3.583333</td>\n",
       "      <td>3.0</td>\n",
       "    </tr>\n",
       "    <tr>\n",
       "      <th>2</th>\n",
       "      <td>770495</td>\n",
       "      <td>16977</td>\n",
       "      <td>3.393939</td>\n",
       "      <td>4</td>\n",
       "      <td>1.0</td>\n",
       "      <td>5.0</td>\n",
       "      <td>4.0</td>\n",
       "      <td>3.0</td>\n",
       "      <td>4.0</td>\n",
       "      <td>4.0</td>\n",
       "      <td>4.000000</td>\n",
       "      <td>4.000000</td>\n",
       "      <td>4.000000</td>\n",
       "      <td>4.000000</td>\n",
       "      <td>3.583333</td>\n",
       "      <td>4.0</td>\n",
       "    </tr>\n",
       "    <tr>\n",
       "      <th>3</th>\n",
       "      <td>1033930</td>\n",
       "      <td>16977</td>\n",
       "      <td>3.393939</td>\n",
       "      <td>2</td>\n",
       "      <td>1.0</td>\n",
       "      <td>3.0</td>\n",
       "      <td>4.0</td>\n",
       "      <td>4.0</td>\n",
       "      <td>3.0</td>\n",
       "      <td>2.0</td>\n",
       "      <td>2.666667</td>\n",
       "      <td>2.666667</td>\n",
       "      <td>2.666667</td>\n",
       "      <td>2.666667</td>\n",
       "      <td>3.583333</td>\n",
       "      <td>3.0</td>\n",
       "    </tr>\n",
       "    <tr>\n",
       "      <th>4</th>\n",
       "      <td>1301848</td>\n",
       "      <td>16977</td>\n",
       "      <td>3.393939</td>\n",
       "      <td>4</td>\n",
       "      <td>1.0</td>\n",
       "      <td>5.0</td>\n",
       "      <td>4.0</td>\n",
       "      <td>3.0</td>\n",
       "      <td>4.0</td>\n",
       "      <td>4.0</td>\n",
       "      <td>4.000000</td>\n",
       "      <td>4.000000</td>\n",
       "      <td>4.000000</td>\n",
       "      <td>4.000000</td>\n",
       "      <td>3.583333</td>\n",
       "      <td>4.0</td>\n",
       "    </tr>\n",
       "  </tbody>\n",
       "</table>\n",
       "</div>"
      ],
      "text/plain": [
       "   user_id  movie_id  gloabl_average  similar_user_rating1  \\\n",
       "0   218348     16977        3.393939                     4   \n",
       "1   482111     16977        3.393939                     4   \n",
       "2   770495     16977        3.393939                     4   \n",
       "3  1033930     16977        3.393939                     2   \n",
       "4  1301848     16977        3.393939                     4   \n",
       "\n",
       "   similar_user_rating2  similar_user_rating3  similar_user_rating4  \\\n",
       "0                   1.0                   5.0                   4.0   \n",
       "1                   1.0                   5.0                   4.0   \n",
       "2                   1.0                   5.0                   4.0   \n",
       "3                   1.0                   3.0                   4.0   \n",
       "4                   1.0                   5.0                   4.0   \n",
       "\n",
       "   similar_user_rating5  similar_movie_rating1  similar_movie_rating2  \\\n",
       "0                   3.0                    5.0                    5.0   \n",
       "1                   3.0                    3.0                    3.0   \n",
       "2                   3.0                    4.0                    4.0   \n",
       "3                   4.0                    3.0                    2.0   \n",
       "4                   3.0                    4.0                    4.0   \n",
       "\n",
       "   similar_movie_rating3  similar_movie_rating4  similar_movie_rating5  \\\n",
       "0               5.000000               5.000000               5.000000   \n",
       "1               3.000000               3.000000               3.000000   \n",
       "2               4.000000               4.000000               4.000000   \n",
       "3               2.666667               2.666667               2.666667   \n",
       "4               4.000000               4.000000               4.000000   \n",
       "\n",
       "   user_average  movie_average  rating  \n",
       "0      5.000000       3.583333     5.0  \n",
       "1      3.000000       3.583333     3.0  \n",
       "2      4.000000       3.583333     4.0  \n",
       "3      2.666667       3.583333     3.0  \n",
       "4      4.000000       3.583333     4.0  "
      ]
     },
     "execution_count": 53,
     "metadata": {},
     "output_type": "execute_result"
    }
   ],
   "source": [
    "test_new_similar_features = create_new_similar_features(test_sparse_matrix_matrix)\n",
    "test_new_similar_features = test_new_similar_features.fillna(0)\n",
    "test_new_similar_features.head()"
   ]
  },
  {
   "cell_type": "code",
   "execution_count": 54,
   "id": "b535fa9a-d31b-422e-9b43-3fee797acfc7",
   "metadata": {},
   "outputs": [],
   "source": [
    "x_train = train_new_similar_features.drop([\"user_id\", \"movie_id\", \"rating\"], axis = 1)\n",
    "x_test = test_new_similar_features.drop([\"user_id\", \"movie_id\", \"rating\"], axis = 1)\n",
    "y_train = train_new_similar_features[\"rating\"]\n",
    "y_test = test_new_similar_features[\"rating\"]"
   ]
  },
  {
   "cell_type": "code",
   "execution_count": 55,
   "id": "cf7b2654-4049-4359-a668-5d16cd4b4a2e",
   "metadata": {},
   "outputs": [],
   "source": [
    "def error_metrics(y_true, y_pred):\n",
    "    rmse = np.sqrt(mean_squared_error(y_true, y_pred))\n",
    "    return rmse"
   ]
  },
  {
   "cell_type": "code",
   "execution_count": 56,
   "id": "6e3381f5-663b-47e8-8e2b-b5fbfec085b5",
   "metadata": {},
   "outputs": [
    {
     "name": "stdout",
     "output_type": "stream",
     "text": [
      "[15:30:45] WARNING: C:/Users/Administrator/workspace/xgboost-win64_release_1.6.0/src/learner.cc:627: \n",
      "Parameters: { \"silent\" } might not be used.\n",
      "\n",
      "  This could be a false alarm, with some parameters getting used by language bindings but\n",
      "  then being mistakenly passed down to XGBoost core, or some parameter actually being used\n",
      "  but getting flagged wrongly here. Please open an issue if you find any such cases.\n",
      "\n",
      "\n"
     ]
    },
    {
     "data": {
      "text/html": [
       "<style>#sk-container-id-1 {color: black;background-color: white;}#sk-container-id-1 pre{padding: 0;}#sk-container-id-1 div.sk-toggleable {background-color: white;}#sk-container-id-1 label.sk-toggleable__label {cursor: pointer;display: block;width: 100%;margin-bottom: 0;padding: 0.3em;box-sizing: border-box;text-align: center;}#sk-container-id-1 label.sk-toggleable__label-arrow:before {content: \"▸\";float: left;margin-right: 0.25em;color: #696969;}#sk-container-id-1 label.sk-toggleable__label-arrow:hover:before {color: black;}#sk-container-id-1 div.sk-estimator:hover label.sk-toggleable__label-arrow:before {color: black;}#sk-container-id-1 div.sk-toggleable__content {max-height: 0;max-width: 0;overflow: hidden;text-align: left;background-color: #f0f8ff;}#sk-container-id-1 div.sk-toggleable__content pre {margin: 0.2em;color: black;border-radius: 0.25em;background-color: #f0f8ff;}#sk-container-id-1 input.sk-toggleable__control:checked~div.sk-toggleable__content {max-height: 200px;max-width: 100%;overflow: auto;}#sk-container-id-1 input.sk-toggleable__control:checked~label.sk-toggleable__label-arrow:before {content: \"▾\";}#sk-container-id-1 div.sk-estimator input.sk-toggleable__control:checked~label.sk-toggleable__label {background-color: #d4ebff;}#sk-container-id-1 div.sk-label input.sk-toggleable__control:checked~label.sk-toggleable__label {background-color: #d4ebff;}#sk-container-id-1 input.sk-hidden--visually {border: 0;clip: rect(1px 1px 1px 1px);clip: rect(1px, 1px, 1px, 1px);height: 1px;margin: -1px;overflow: hidden;padding: 0;position: absolute;width: 1px;}#sk-container-id-1 div.sk-estimator {font-family: monospace;background-color: #f0f8ff;border: 1px dotted black;border-radius: 0.25em;box-sizing: border-box;margin-bottom: 0.5em;}#sk-container-id-1 div.sk-estimator:hover {background-color: #d4ebff;}#sk-container-id-1 div.sk-parallel-item::after {content: \"\";width: 100%;border-bottom: 1px solid gray;flex-grow: 1;}#sk-container-id-1 div.sk-label:hover label.sk-toggleable__label {background-color: #d4ebff;}#sk-container-id-1 div.sk-serial::before {content: \"\";position: absolute;border-left: 1px solid gray;box-sizing: border-box;top: 0;bottom: 0;left: 50%;z-index: 0;}#sk-container-id-1 div.sk-serial {display: flex;flex-direction: column;align-items: center;background-color: white;padding-right: 0.2em;padding-left: 0.2em;position: relative;}#sk-container-id-1 div.sk-item {position: relative;z-index: 1;}#sk-container-id-1 div.sk-parallel {display: flex;align-items: stretch;justify-content: center;background-color: white;position: relative;}#sk-container-id-1 div.sk-item::before, #sk-container-id-1 div.sk-parallel-item::before {content: \"\";position: absolute;border-left: 1px solid gray;box-sizing: border-box;top: 0;bottom: 0;left: 50%;z-index: -1;}#sk-container-id-1 div.sk-parallel-item {display: flex;flex-direction: column;z-index: 1;position: relative;background-color: white;}#sk-container-id-1 div.sk-parallel-item:first-child::after {align-self: flex-end;width: 50%;}#sk-container-id-1 div.sk-parallel-item:last-child::after {align-self: flex-start;width: 50%;}#sk-container-id-1 div.sk-parallel-item:only-child::after {width: 0;}#sk-container-id-1 div.sk-dashed-wrapped {border: 1px dashed gray;margin: 0 0.4em 0.5em 0.4em;box-sizing: border-box;padding-bottom: 0.4em;background-color: white;}#sk-container-id-1 div.sk-label label {font-family: monospace;font-weight: bold;display: inline-block;line-height: 1.2em;}#sk-container-id-1 div.sk-label-container {text-align: center;}#sk-container-id-1 div.sk-container {/* jupyter's `normalize.less` sets `[hidden] { display: none; }` but bootstrap.min.css set `[hidden] { display: none !important; }` so we also need the `!important` here to be able to override the default hidden behavior on the sphinx rendered scikit-learn.org. See: https://github.com/scikit-learn/scikit-learn/issues/21755 */display: inline-block !important;position: relative;}#sk-container-id-1 div.sk-text-repr-fallback {display: none;}</style><div id=\"sk-container-id-1\" class=\"sk-top-container\"><div class=\"sk-text-repr-fallback\"><pre>XGBRegressor(base_score=0.5, booster=&#x27;gbtree&#x27;, callbacks=None,\n",
       "             colsample_bylevel=1, colsample_bynode=1, colsample_bytree=1,\n",
       "             early_stopping_rounds=None, enable_categorical=False,\n",
       "             eval_metric=None, gamma=0, gpu_id=-1, grow_policy=&#x27;depthwise&#x27;,\n",
       "             importance_type=None, interaction_constraints=&#x27;&#x27;,\n",
       "             learning_rate=0.300000012, max_bin=256, max_cat_to_onehot=4,\n",
       "             max_delta_step=0, max_depth=6, max_leaves=0, min_child_weight=1,\n",
       "             missing=nan, monotone_constraints=&#x27;()&#x27;, n_estimators=100,\n",
       "             n_jobs=10, num_parallel_tree=1, predictor=&#x27;auto&#x27;, random_state=0,\n",
       "             reg_alpha=0, reg_lambda=1, ...)</pre><b>In a Jupyter environment, please rerun this cell to show the HTML representation or trust the notebook. <br />On GitHub, the HTML representation is unable to render, please try loading this page with nbviewer.org.</b></div><div class=\"sk-container\" hidden><div class=\"sk-item\"><div class=\"sk-estimator sk-toggleable\"><input class=\"sk-toggleable__control sk-hidden--visually\" id=\"sk-estimator-id-1\" type=\"checkbox\" checked><label for=\"sk-estimator-id-1\" class=\"sk-toggleable__label sk-toggleable__label-arrow\">XGBRegressor</label><div class=\"sk-toggleable__content\"><pre>XGBRegressor(base_score=0.5, booster=&#x27;gbtree&#x27;, callbacks=None,\n",
       "             colsample_bylevel=1, colsample_bynode=1, colsample_bytree=1,\n",
       "             early_stopping_rounds=None, enable_categorical=False,\n",
       "             eval_metric=None, gamma=0, gpu_id=-1, grow_policy=&#x27;depthwise&#x27;,\n",
       "             importance_type=None, interaction_constraints=&#x27;&#x27;,\n",
       "             learning_rate=0.300000012, max_bin=256, max_cat_to_onehot=4,\n",
       "             max_delta_step=0, max_depth=6, max_leaves=0, min_child_weight=1,\n",
       "             missing=nan, monotone_constraints=&#x27;()&#x27;, n_estimators=100,\n",
       "             n_jobs=10, num_parallel_tree=1, predictor=&#x27;auto&#x27;, random_state=0,\n",
       "             reg_alpha=0, reg_lambda=1, ...)</pre></div></div></div></div></div>"
      ],
      "text/plain": [
       "XGBRegressor(base_score=0.5, booster='gbtree', callbacks=None,\n",
       "             colsample_bylevel=1, colsample_bynode=1, colsample_bytree=1,\n",
       "             early_stopping_rounds=None, enable_categorical=False,\n",
       "             eval_metric=None, gamma=0, gpu_id=-1, grow_policy='depthwise',\n",
       "             importance_type=None, interaction_constraints='',\n",
       "             learning_rate=0.300000012, max_bin=256, max_cat_to_onehot=4,\n",
       "             max_delta_step=0, max_depth=6, max_leaves=0, min_child_weight=1,\n",
       "             missing=nan, monotone_constraints='()', n_estimators=100,\n",
       "             n_jobs=10, num_parallel_tree=1, predictor='auto', random_state=0,\n",
       "             reg_alpha=0, reg_lambda=1, ...)"
      ]
     },
     "execution_count": 56,
     "metadata": {},
     "output_type": "execute_result"
    }
   ],
   "source": [
    "clf = xgb.XGBRegressor(n_estimators = 100, silent = False, n_jobs  = 10)\n",
    "clf.fit(x_train, y_train)"
   ]
  },
  {
   "cell_type": "code",
   "execution_count": 57,
   "id": "e4c0512e-84cf-4c30-9041-e490f0009714",
   "metadata": {},
   "outputs": [
    {
     "name": "stdout",
     "output_type": "stream",
     "text": [
      "RMSE = 0.4554496392686637\n"
     ]
    }
   ],
   "source": [
    "y_pred_test = clf.predict(x_test)\n",
    "rmse_test = error_metrics(y_test, y_pred_test)\n",
    "print(f\"RMSE = {rmse_test}\")"
   ]
  },
  {
   "cell_type": "code",
   "execution_count": 58,
   "id": "cf9a58f4-0749-4d7a-9ce7-d8f1c948ec1a",
   "metadata": {},
   "outputs": [],
   "source": [
    "def plot_importance(model, clf):\n",
    "    fig = plt.figure(figsize = (8, 6))\n",
    "    ax = fig.add_axes([0,0,1,1])\n",
    "    model.plot_importance(clf, ax = ax, height = 0.3)\n",
    "    plt.xlabel(\"F Score\", fontsize = 20)\n",
    "    plt.ylabel(\"Features\", fontsize = 20)\n",
    "    plt.title(\"Feature Importance\", fontsize = 20)\n",
    "    plt.tick_params(labelsize = 15)\n",
    "    plt.show()"
   ]
  },
  {
   "cell_type": "code",
   "execution_count": 59,
   "id": "f01d0d21-2dec-4302-ae54-50cc1eb7f8b8",
   "metadata": {},
   "outputs": [
    {
     "data": {
      "image/png": "[encoded data removed]",
      "text/plain": [
       "<Figure size 576x432 with 1 Axes>"
      ]
     },
     "metadata": {
      "needs_background": "light"
     },
     "output_type": "display_data"
    }
   ],
   "source": [
    "plot_importance(xgb, clf)"
   ]
  },
  {
   "cell_type": "code",
   "execution_count": null,
   "id": "d52680e0-ea3d-48a1-a26c-875bec8f8621",
   "metadata": {},
   "outputs": [],
   "source": []
  }
 ],
 "metadata": {
  "kernelspec": {
   "display_name": "Python 3 (ipykernel)",
   "language": "python",
   "name": "python3"
  },
  "language_info": {
   "codemirror_mode": {
    "name": "ipython",
    "version": 3
   },
   "file_extension": ".py",
   "mimetype": "text/x-python",
   "name": "python",
   "nbconvert_exporter": "python",
   "pygments_lexer": "ipython3",
   "version": "3.9.13"
  }
 },
 "nbformat": 4,
 "nbformat_minor": 5
}
